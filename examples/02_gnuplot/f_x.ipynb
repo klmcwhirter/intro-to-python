{
 "cells": [
  {
   "cell_type": "markdown",
   "metadata": {},
   "source": [
    "## graph y = f(x)\n",
    "Use sin and cos functions as f(x)\n",
    "\n",
    "---"
   ]
  },
  {
   "cell_type": "markdown",
   "metadata": {},
   "source": [
    "### Prepare to use the libraries needed by importing them\n",
    "The import statement arranges for libraries or modules needed by making their names available for use.\n",
    "\n",
    "> Note this is only needed for stuff not available by default in Python.\n",
    "\n",
    "### Prepare to use matplotlib inline in our notebook\n"
   ]
  },
  {
   "cell_type": "code",
   "execution_count": null,
   "metadata": {},
   "outputs": [],
   "source": [
    "# Get ready to plot the graph\n",
    "import matplotlib.pyplot as plt\n",
    "import numpy as np\n",
    "# if using a jupyter notebook\n",
    "%matplotlib inline\n"
   ]
  },
  {
   "cell_type": "markdown",
   "metadata": {},
   "source": [
    "### Collect data for sin and cos from 0 to 4&pi;"
   ]
  },
  {
   "cell_type": "code",
   "execution_count": null,
   "metadata": {},
   "outputs": [],
   "source": [
    "# Gather data ...\n",
    "x = np.arange(0, 4*np.pi, 0.1)   # start,stop,step\n",
    "y = np.sin(x)\n",
    "z = np.cos(x)"
   ]
  },
  {
   "cell_type": "markdown",
   "metadata": {},
   "source": [
    "### Use matplotlib to configure and display the graph"
   ]
  },
  {
   "cell_type": "code",
   "execution_count": null,
   "metadata": {},
   "outputs": [],
   "source": [
    "# Plot the graphs\n",
    "plt.plot(x,y,x,z)\n",
    "plt.xlabel('x values from 0 to 4pi')  # string must be enclosed with quotes '  '\n",
    "plt.ylabel('sin(x) and cos(x)')\n",
    "plt.title('Plot of sin and cos from 0 to 4pi')\n",
    "plt.legend(['sin(x)', 'cos(x)'])      # legend entries as separate strings in a list\n",
    "plt.show()"
   ]
  }
 ],
 "metadata": {
  "kernelspec": {
   "display_name": ".venv",
   "language": "python",
   "name": "python3"
  },
  "language_info": {
   "codemirror_mode": {
    "name": "ipython",
    "version": 3
   },
   "file_extension": ".py",
   "mimetype": "text/x-python",
   "name": "python",
   "nbconvert_exporter": "python",
   "pygments_lexer": "ipython3",
   "version": "3.12.1"
  }
 },
 "nbformat": 4,
 "nbformat_minor": 2
}
